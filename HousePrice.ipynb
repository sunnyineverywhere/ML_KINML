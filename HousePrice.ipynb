{
  "nbformat": 4,
  "nbformat_minor": 0,
  "metadata": {
    "colab": {
      "provenance": []
    },
    "kernelspec": {
      "name": "python3",
      "display_name": "Python 3"
    },
    "language_info": {
      "name": "python"
    }
  },
  "cells": [
    {
      "cell_type": "code",
      "execution_count": null,
      "metadata": {
        "colab": {
          "base_uri": "https://localhost:8080/"
        },
        "id": "Pcp-5PbdWBwc",
        "outputId": "48257870-5e38-4880-9633-f160e09ac37c"
      },
      "outputs": [
        {
          "output_type": "stream",
          "name": "stdout",
          "text": [
            "--2022-12-01 13:26:50--  https://docs.google.com/uc?export=download&id=15nk00lZXpCiOPXAtpkBoT7RdmRyCCq_U\n",
            "Resolving docs.google.com (docs.google.com)... 142.251.2.101, 142.251.2.113, 142.251.2.138, ...\n",
            "Connecting to docs.google.com (docs.google.com)|142.251.2.101|:443... connected.\n",
            "HTTP request sent, awaiting response... 303 See Other\n",
            "Location: https://doc-08-80-docs.googleusercontent.com/docs/securesc/ha0ro937gcuc7l7deffksulhg5h7mbp1/lib952j1g4hks77mm5pdq7qohq2psceo/1669901175000/14827738442420886269/*/15nk00lZXpCiOPXAtpkBoT7RdmRyCCq_U?e=download&uuid=c6d3a778-e213-45ec-8382-3e2fc2912575 [following]\n",
            "Warning: wildcards not supported in HTTP.\n",
            "--2022-12-01 13:26:50--  https://doc-08-80-docs.googleusercontent.com/docs/securesc/ha0ro937gcuc7l7deffksulhg5h7mbp1/lib952j1g4hks77mm5pdq7qohq2psceo/1669901175000/14827738442420886269/*/15nk00lZXpCiOPXAtpkBoT7RdmRyCCq_U?e=download&uuid=c6d3a778-e213-45ec-8382-3e2fc2912575\n",
            "Resolving doc-08-80-docs.googleusercontent.com (doc-08-80-docs.googleusercontent.com)... 142.250.141.132, 2607:f8b0:4023:c0b::84\n",
            "Connecting to doc-08-80-docs.googleusercontent.com (doc-08-80-docs.googleusercontent.com)|142.250.141.132|:443... connected.\n",
            "HTTP request sent, awaiting response... 200 OK\n",
            "Length: 451405 (441K) [text/csv]\n",
            "Saving to: ‘test.csv’\n",
            "\n",
            "test.csv            100%[===================>] 440.83K  --.-KB/s    in 0.003s  \n",
            "\n",
            "2022-12-01 13:26:51 (125 MB/s) - ‘test.csv’ saved [451405/451405]\n",
            "\n",
            "--2022-12-01 13:26:51--  https://docs.google.com/uc?export=download&id=1uDTPwWIAays7N7zY4113_Mygr5zJ2jWC\n",
            "Resolving docs.google.com (docs.google.com)... 142.251.2.101, 142.251.2.113, 142.251.2.138, ...\n",
            "Connecting to docs.google.com (docs.google.com)|142.251.2.101|:443... connected.\n",
            "HTTP request sent, awaiting response... 303 See Other\n",
            "Location: https://doc-04-80-docs.googleusercontent.com/docs/securesc/ha0ro937gcuc7l7deffksulhg5h7mbp1/n69njrkhkfbb4a45c52obq7f7l6lklcv/1669901175000/14827738442420886269/*/1uDTPwWIAays7N7zY4113_Mygr5zJ2jWC?e=download&uuid=a468a347-6c8e-41b7-a660-5e8571c7015b [following]\n",
            "Warning: wildcards not supported in HTTP.\n",
            "--2022-12-01 13:26:51--  https://doc-04-80-docs.googleusercontent.com/docs/securesc/ha0ro937gcuc7l7deffksulhg5h7mbp1/n69njrkhkfbb4a45c52obq7f7l6lklcv/1669901175000/14827738442420886269/*/1uDTPwWIAays7N7zY4113_Mygr5zJ2jWC?e=download&uuid=a468a347-6c8e-41b7-a660-5e8571c7015b\n",
            "Resolving doc-04-80-docs.googleusercontent.com (doc-04-80-docs.googleusercontent.com)... 142.250.141.132, 2607:f8b0:4023:c0b::84\n",
            "Connecting to doc-04-80-docs.googleusercontent.com (doc-04-80-docs.googleusercontent.com)|142.250.141.132|:443... connected.\n",
            "HTTP request sent, awaiting response... 200 OK\n",
            "Length: 460676 (450K) [text/csv]\n",
            "Saving to: ‘train.csv’\n",
            "\n",
            "train.csv           100%[===================>] 449.88K  --.-KB/s    in 0.003s  \n",
            "\n",
            "2022-12-01 13:26:51 (127 MB/s) - ‘train.csv’ saved [460676/460676]\n",
            "\n"
          ]
        }
      ],
      "source": [
        "import numpy as np\n",
        "import pandas as pd\n",
        "\n",
        "from scipy import stats\n",
        "from scipy.stats import norm, skew #for some statistics\n",
        "\n",
        "!wget --no-check-certificate 'https://docs.google.com/uc?export=download&id=15nk00lZXpCiOPXAtpkBoT7RdmRyCCq_U' -O test.csv\n",
        "!wget --no-check-certificate 'https://docs.google.com/uc?export=download&id=1uDTPwWIAays7N7zY4113_Mygr5zJ2jWC' -O train.csv\n",
        "\n",
        "train = pd.read_csv('train.csv')\n",
        "test = pd.read_csv('test.csv')"
      ]
    },
    {
      "cell_type": "code",
      "source": [
        "#아웃라이어 제거\n",
        "train = train.drop(train[(train['GrLivArea']>4000) & (train['SalePrice']<300000)].index)"
      ],
      "metadata": {
        "id": "SadpNQDPX65K"
      },
      "execution_count": null,
      "outputs": []
    },
    {
      "cell_type": "code",
      "source": [
        "# Get the fitted parameters used by the function\n",
        "(mu, sigma) = norm.fit(train['SalePrice'])\n",
        "print( 'mu = {:.2f} and sigma = {:.2f}'.format(mu, sigma))\n",
        "\n",
        "# We use the numpy fuction log1p which  applies log(1+x) to all elements of the column\n",
        "train[\"SalePrice\"] = np.log1p(train[\"SalePrice\"])\n",
        "\n",
        "# Get the fitted parameters used by the function\n",
        "(mu, sigma) = norm.fit(train['SalePrice'])\n",
        "print( 'mu = {:.2f} and sigma = {:.2f}'.format(mu, sigma))"
      ],
      "metadata": {
        "id": "zIJh5GzNJ0_4",
        "outputId": "b68fe888-802e-4438-b437-797bc5bf80f7",
        "colab": {
          "base_uri": "https://localhost:8080/"
        }
      },
      "execution_count": null,
      "outputs": [
        {
          "output_type": "stream",
          "name": "stdout",
          "text": [
            "mu = 180932.92 and sigma = 79467.79\n",
            "mu = 12.02 and sigma = 0.40\n"
          ]
        }
      ]
    },
    {
      "cell_type": "code",
      "source": [
        "vNd = np.random.normal(50, 10, 1000)\n",
        "plt.hist(vNd, 100)\n",
        "plt.show()"
      ],
      "metadata": {
        "colab": {
          "base_uri": "https://localhost:8080/",
          "height": 265
        },
        "id": "4jO2yzAy1jBO",
        "outputId": "73f1f2d7-9f1e-45cb-fdc3-88f428d21a2a"
      },
      "execution_count": null,
      "outputs": [
        {
          "output_type": "display_data",
          "data": {
            "text/plain": [
              "<Figure size 432x288 with 1 Axes>"
            ],
            "image/png": "[encoded data removed]"
          },
          "metadata": {
            "needs_background": "light"
          }
        }
      ]
    },
    {
      "cell_type": "code",
      "source": [],
      "metadata": {
        "id": "FwHnJgaB2cSC"
      },
      "execution_count": null,
      "outputs": []
    },
    {
      "cell_type": "code",
      "source": [
        "#데이터 합침\n",
        "ntrain = train.shape[0]\n",
        "ntrain = int(ntrain * 0.8)\n",
        "#ntest = train.shape[ntrain:]\n",
        "y_train = train[:ntrain].SalePrice.values\n",
        "y_test = train[ntrain:].SalePrice.values\n",
        "\n",
        "#all_data = pd.concat((train, test)).reset_index(drop=True)\n",
        "all_data = train\n",
        "all_data.drop(['SalePrice'], axis=1, inplace=True)\n",
        "print(\"all_data size is : {}\".format(all_data.shape))"
      ],
      "metadata": {
        "colab": {
          "base_uri": "https://localhost:8080/"
        },
        "id": "LqS1E-3xYF21",
        "outputId": "56e5b617-f952-49f9-df6a-9c7580106206"
      },
      "execution_count": null,
      "outputs": [
        {
          "output_type": "stream",
          "name": "stdout",
          "text": [
            "all_data size is : (1458, 80)\n"
          ]
        }
      ]
    },
    {
      "cell_type": "code",
      "source": [
        "#NULL 값 처리\n",
        "all_data[\"PoolQC\"] = all_data[\"PoolQC\"].fillna(\"None\")\n",
        "all_data[\"MiscFeature\"] = all_data[\"MiscFeature\"].fillna(\"None\")\n",
        "all_data[\"Alley\"] = all_data[\"Alley\"].fillna(\"None\")\n",
        "all_data[\"Fence\"] = all_data[\"Fence\"].fillna(\"None\")\n",
        "all_data[\"FireplaceQu\"] = all_data[\"FireplaceQu\"].fillna(\"None\")\n",
        "all_data[\"LotFrontage\"] = all_data.groupby(\"Neighborhood\")[\"LotFrontage\"].transform(lambda x: x.fillna(x.median()))\n",
        "\n",
        "for col in ('GarageType', 'GarageFinish', 'GarageQual', 'GarageCond'):\n",
        "  all_data[col] = all_data[col].fillna('None')\n",
        "\n",
        "for col in ('GarageYrBlt', 'GarageArea', 'GarageCars'):\n",
        "  all_data[col] = all_data[col].fillna(0)\n",
        "\n",
        "for col in ('BsmtFinSF1', 'BsmtFinSF2', 'BsmtUnfSF','TotalBsmtSF', 'BsmtFullBath', 'BsmtHalfBath'):\n",
        "  all_data[col] = all_data[col].fillna(0)\n",
        "\n",
        "for col in ('BsmtQual', 'BsmtCond', 'BsmtExposure', 'BsmtFinType1', 'BsmtFinType2'):\n",
        "  all_data[col] = all_data[col].fillna('None')\n",
        "\n",
        "all_data[\"MasVnrType\"] = all_data[\"MasVnrType\"].fillna(\"None\")\n",
        "all_data[\"MasVnrArea\"] = all_data[\"MasVnrArea\"].fillna(0)\n",
        "\n",
        "all_data['MSZoning'] = all_data['MSZoning'].fillna(all_data['MSZoning'].mode()[0])\n",
        "\n",
        "all_data = all_data.drop(['Utilities'], axis=1)\n",
        "\n",
        "all_data[\"Functional\"] = all_data[\"Functional\"].fillna(\"Typ\")\n",
        "\n",
        "all_data['Electrical'] = all_data['Electrical'].fillna(all_data['Electrical'].mode()[0])\n",
        "\n",
        "all_data['KitchenQual'] = all_data['KitchenQual'].fillna(all_data['KitchenQual'].mode()[0])\n",
        "\n",
        "all_data['Exterior1st'] = all_data['Exterior1st'].fillna(all_data['Exterior1st'].mode()[0])\n",
        "all_data['Exterior2nd'] = all_data['Exterior2nd'].fillna(all_data['Exterior2nd'].mode()[0])\n",
        "\n",
        "all_data['SaleType'] = all_data['SaleType'].fillna(all_data['SaleType'].mode()[0])\n",
        "\n",
        "all_data['MSSubClass'] = all_data['MSSubClass'].fillna(\"None\")"
      ],
      "metadata": {
        "id": "Az6taKxQYUHx"
      },
      "execution_count": null,
      "outputs": []
    },
    {
      "cell_type": "code",
      "source": [
        "#Check remaining missing values if any \n",
        "all_data_na = (all_data.isnull().sum() / len(all_data)) * 100\n",
        "all_data_na = all_data_na.drop(all_data_na[all_data_na == 0].index).sort_values(ascending=False)\n",
        "missing_data = pd.DataFrame({'Missing Ratio' :all_data_na})\n",
        "missing_data.head()"
      ],
      "metadata": {
        "id": "v9YD83NpKp4p",
        "outputId": "82c8dc70-42d6-4291-e4ed-fc6786c40ba3",
        "colab": {
          "base_uri": "https://localhost:8080/",
          "height": 49
        }
      },
      "execution_count": null,
      "outputs": [
        {
          "output_type": "execute_result",
          "data": {
            "text/plain": [
              "Empty DataFrame\n",
              "Columns: [Missing Ratio]\n",
              "Index: []"
            ],
            "text/html": [
              "\n",
              "  <div id=\"df-0eaa2d37-ac83-4b8e-8adf-383c9c6cd414\">\n",
              "    <div class=\"colab-df-container\">\n",
              "      <div>\n",
              "<style scoped>\n",
              "    .dataframe tbody tr th:only-of-type {\n",
              "        vertical-align: middle;\n",
              "    }\n",
              "\n",
              "    .dataframe tbody tr th {\n",
              "        vertical-align: top;\n",
              "    }\n",
              "\n",
              "    .dataframe thead th {\n",
              "        text-align: right;\n",
              "    }\n",
              "</style>\n",
              "<table border=\"1\" class=\"dataframe\">\n",
              "  <thead>\n",
              "    <tr style=\"text-align: right;\">\n",
              "      <th></th>\n",
              "      <th>Missing Ratio</th>\n",
              "    </tr>\n",
              "  </thead>\n",
              "  <tbody>\n",
              "  </tbody>\n",
              "</table>\n",
              "</div>\n",
              "      <button class=\"colab-df-convert\" onclick=\"convertToInteractive('df-0eaa2d37-ac83-4b8e-8adf-383c9c6cd414')\"\n",
              "              title=\"Convert this dataframe to an interactive table.\"\n",
              "              style=\"display:none;\">\n",
              "        \n",
              "  <svg xmlns=\"http://www.w3.org/2000/svg\" height=\"24px\"viewBox=\"0 0 24 24\"\n",
              "       width=\"24px\">\n",
              "    <path d=\"M0 0h24v24H0V0z\" fill=\"none\"/>\n",
              "    <path d=\"M18.56 5.44l.94 2.06.94-2.06 2.06-.94-2.06-.94-.94-2.06-.94 2.06-2.06.94zm-11 1L8.5 8.5l.94-2.06 2.06-.94-2.06-.94L8.5 2.5l-.94 2.06-2.06.94zm10 10l.94 2.06.94-2.06 2.06-.94-2.06-.94-.94-2.06-.94 2.06-2.06.94z\"/><path d=\"M17.41 7.96l-1.37-1.37c-.4-.4-.92-.59-1.43-.59-.52 0-1.04.2-1.43.59L10.3 9.45l-7.72 7.72c-.78.78-.78 2.05 0 2.83L4 21.41c.39.39.9.59 1.41.59.51 0 1.02-.2 1.41-.59l7.78-7.78 2.81-2.81c.8-.78.8-2.07 0-2.86zM5.41 20L4 18.59l7.72-7.72 1.47 1.35L5.41 20z\"/>\n",
              "  </svg>\n",
              "      </button>\n",
              "      \n",
              "  <style>\n",
              "    .colab-df-container {\n",
              "      display:flex;\n",
              "      flex-wrap:wrap;\n",
              "      gap: 12px;\n",
              "    }\n",
              "\n",
              "    .colab-df-convert {\n",
              "      background-color: #E8F0FE;\n",
              "      border: none;\n",
              "      border-radius: 50%;\n",
              "      cursor: pointer;\n",
              "      display: none;\n",
              "      fill: #1967D2;\n",
              "      height: 32px;\n",
              "      padding: 0 0 0 0;\n",
              "      width: 32px;\n",
              "    }\n",
              "\n",
              "    .colab-df-convert:hover {\n",
              "      background-color: #E2EBFA;\n",
              "      box-shadow: 0px 1px 2px rgba(60, 64, 67, 0.3), 0px 1px 3px 1px rgba(60, 64, 67, 0.15);\n",
              "      fill: #174EA6;\n",
              "    }\n",
              "\n",
              "    [theme=dark] .colab-df-convert {\n",
              "      background-color: #3B4455;\n",
              "      fill: #D2E3FC;\n",
              "    }\n",
              "\n",
              "    [theme=dark] .colab-df-convert:hover {\n",
              "      background-color: #434B5C;\n",
              "      box-shadow: 0px 1px 3px 1px rgba(0, 0, 0, 0.15);\n",
              "      filter: drop-shadow(0px 1px 2px rgba(0, 0, 0, 0.3));\n",
              "      fill: #FFFFFF;\n",
              "    }\n",
              "  </style>\n",
              "\n",
              "      <script>\n",
              "        const buttonEl =\n",
              "          document.querySelector('#df-0eaa2d37-ac83-4b8e-8adf-383c9c6cd414 button.colab-df-convert');\n",
              "        buttonEl.style.display =\n",
              "          google.colab.kernel.accessAllowed ? 'block' : 'none';\n",
              "\n",
              "        async function convertToInteractive(key) {\n",
              "          const element = document.querySelector('#df-0eaa2d37-ac83-4b8e-8adf-383c9c6cd414');\n",
              "          const dataTable =\n",
              "            await google.colab.kernel.invokeFunction('convertToInteractive',\n",
              "                                                     [key], {});\n",
              "          if (!dataTable) return;\n",
              "\n",
              "          const docLinkHtml = 'Like what you see? Visit the ' +\n",
              "            '<a target=\"_blank\" href=https://colab.research.google.com/notebooks/data_table.ipynb>data table notebook</a>'\n",
              "            + ' to learn more about interactive tables.';\n",
              "          element.innerHTML = '';\n",
              "          dataTable['output_type'] = 'display_data';\n",
              "          await google.colab.output.renderOutput(dataTable, element);\n",
              "          const docLink = document.createElement('div');\n",
              "          docLink.innerHTML = docLinkHtml;\n",
              "          element.appendChild(docLink);\n",
              "        }\n",
              "      </script>\n",
              "    </div>\n",
              "  </div>\n",
              "  "
            ]
          },
          "metadata": {},
          "execution_count": 37
        }
      ]
    },
    {
      "cell_type": "code",
      "source": [
        "#MSSubClass=The building class\n",
        "all_data['MSSubClass'] = all_data['MSSubClass'].apply(str)\n",
        "\n",
        "#Changing OverallCond into a categorical variable\n",
        "all_data['OverallCond'] = all_data['OverallCond'].astype(str)\n",
        "\n",
        "#Year and month sold are transformed into categorical features.\n",
        "all_data['YrSold'] = all_data['YrSold'].astype(str)\n",
        "all_data['MoSold'] = all_data['MoSold'].astype(str)"
      ],
      "metadata": {
        "id": "kRcFNBQyZGxc"
      },
      "execution_count": null,
      "outputs": []
    },
    {
      "cell_type": "code",
      "source": [
        "from sklearn.preprocessing import LabelEncoder\n",
        "cols = ('FireplaceQu', 'BsmtQual', 'BsmtCond', 'GarageQual', 'GarageCond', \n",
        "        'ExterQual', 'ExterCond','HeatingQC', 'PoolQC', 'KitchenQual', 'BsmtFinType1', \n",
        "        'BsmtFinType2', 'Functional', 'Fence', 'BsmtExposure', 'GarageFinish', 'LandSlope',\n",
        "        'LotShape', 'PavedDrive', 'Street', 'Alley', 'CentralAir', 'MSSubClass', 'OverallCond', \n",
        "        'YrSold', 'MoSold')\n",
        "\n",
        "# process columns, apply LabelEncoder to categorical features\n",
        "for c in cols:\n",
        "  lbl = LabelEncoder() \n",
        "  lbl.fit(list(all_data[c].values)) \n",
        "  all_data[c] = lbl.transform(list(all_data[c].values))\n",
        "\n",
        "# shape        \n",
        "print('Shape all_data: {}'.format(all_data.shape))"
      ],
      "metadata": {
        "colab": {
          "base_uri": "https://localhost:8080/"
        },
        "id": "HWC7gQ4YZJ9B",
        "outputId": "e587c3ad-ec02-4812-bc7d-6d112882bd5e"
      },
      "execution_count": null,
      "outputs": [
        {
          "output_type": "stream",
          "name": "stdout",
          "text": [
            "Shape all_data: (1458, 79)\n"
          ]
        }
      ]
    },
    {
      "cell_type": "code",
      "source": [
        "from scipy.stats import skew\n",
        "numeric_feats = all_data.dtypes[all_data.dtypes != \"object\"].index\n",
        "\n",
        "# Check the skew of all numerical features\n",
        "skewed_feats = all_data[numeric_feats].apply(lambda x: skew(x.dropna())).sort_values(ascending=False)\n",
        "print(\"\\nSkew in numerical features: \\n\")\n",
        "skewness = pd.DataFrame({'Skew' :skewed_feats})\n",
        "skewness.head(10)"
      ],
      "metadata": {
        "colab": {
          "base_uri": "https://localhost:8080/",
          "height": 418
        },
        "id": "73LumiXnZc2Z",
        "outputId": "64b31d2b-4204-476c-aa79-e2b1d3921aaa"
      },
      "execution_count": null,
      "outputs": [
        {
          "output_type": "stream",
          "name": "stdout",
          "text": [
            "\n",
            "Skew in numerical features: \n",
            "\n"
          ]
        },
        {
          "output_type": "execute_result",
          "data": {
            "text/plain": [
              "                   Skew\n",
              "MiscVal       24.434913\n",
              "PoolArea      15.932532\n",
              "LotArea       12.560986\n",
              "3SsnPorch     10.286510\n",
              "LowQualFinSF   8.995688\n",
              "LandSlope      4.805032\n",
              "KitchenAbvGr   4.480268\n",
              "BsmtFinSF2     4.247550\n",
              "ScreenPorch    4.114690\n",
              "BsmtHalfBath   4.095895"
            ],
            "text/html": [
              "\n",
              "  <div id=\"df-257302b0-a342-4d6a-bf4b-89758e715c78\">\n",
              "    <div class=\"colab-df-container\">\n",
              "      <div>\n",
              "<style scoped>\n",
              "    .dataframe tbody tr th:only-of-type {\n",
              "        vertical-align: middle;\n",
              "    }\n",
              "\n",
              "    .dataframe tbody tr th {\n",
              "        vertical-align: top;\n",
              "    }\n",
              "\n",
              "    .dataframe thead th {\n",
              "        text-align: right;\n",
              "    }\n",
              "</style>\n",
              "<table border=\"1\" class=\"dataframe\">\n",
              "  <thead>\n",
              "    <tr style=\"text-align: right;\">\n",
              "      <th></th>\n",
              "      <th>Skew</th>\n",
              "    </tr>\n",
              "  </thead>\n",
              "  <tbody>\n",
              "    <tr>\n",
              "      <th>MiscVal</th>\n",
              "      <td>24.434913</td>\n",
              "    </tr>\n",
              "    <tr>\n",
              "      <th>PoolArea</th>\n",
              "      <td>15.932532</td>\n",
              "    </tr>\n",
              "    <tr>\n",
              "      <th>LotArea</th>\n",
              "      <td>12.560986</td>\n",
              "    </tr>\n",
              "    <tr>\n",
              "      <th>3SsnPorch</th>\n",
              "      <td>10.286510</td>\n",
              "    </tr>\n",
              "    <tr>\n",
              "      <th>LowQualFinSF</th>\n",
              "      <td>8.995688</td>\n",
              "    </tr>\n",
              "    <tr>\n",
              "      <th>LandSlope</th>\n",
              "      <td>4.805032</td>\n",
              "    </tr>\n",
              "    <tr>\n",
              "      <th>KitchenAbvGr</th>\n",
              "      <td>4.480268</td>\n",
              "    </tr>\n",
              "    <tr>\n",
              "      <th>BsmtFinSF2</th>\n",
              "      <td>4.247550</td>\n",
              "    </tr>\n",
              "    <tr>\n",
              "      <th>ScreenPorch</th>\n",
              "      <td>4.114690</td>\n",
              "    </tr>\n",
              "    <tr>\n",
              "      <th>BsmtHalfBath</th>\n",
              "      <td>4.095895</td>\n",
              "    </tr>\n",
              "  </tbody>\n",
              "</table>\n",
              "</div>\n",
              "      <button class=\"colab-df-convert\" onclick=\"convertToInteractive('df-257302b0-a342-4d6a-bf4b-89758e715c78')\"\n",
              "              title=\"Convert this dataframe to an interactive table.\"\n",
              "              style=\"display:none;\">\n",
              "        \n",
              "  <svg xmlns=\"http://www.w3.org/2000/svg\" height=\"24px\"viewBox=\"0 0 24 24\"\n",
              "       width=\"24px\">\n",
              "    <path d=\"M0 0h24v24H0V0z\" fill=\"none\"/>\n",
              "    <path d=\"M18.56 5.44l.94 2.06.94-2.06 2.06-.94-2.06-.94-.94-2.06-.94 2.06-2.06.94zm-11 1L8.5 8.5l.94-2.06 2.06-.94-2.06-.94L8.5 2.5l-.94 2.06-2.06.94zm10 10l.94 2.06.94-2.06 2.06-.94-2.06-.94-.94-2.06-.94 2.06-2.06.94z\"/><path d=\"M17.41 7.96l-1.37-1.37c-.4-.4-.92-.59-1.43-.59-.52 0-1.04.2-1.43.59L10.3 9.45l-7.72 7.72c-.78.78-.78 2.05 0 2.83L4 21.41c.39.39.9.59 1.41.59.51 0 1.02-.2 1.41-.59l7.78-7.78 2.81-2.81c.8-.78.8-2.07 0-2.86zM5.41 20L4 18.59l7.72-7.72 1.47 1.35L5.41 20z\"/>\n",
              "  </svg>\n",
              "      </button>\n",
              "      \n",
              "  <style>\n",
              "    .colab-df-container {\n",
              "      display:flex;\n",
              "      flex-wrap:wrap;\n",
              "      gap: 12px;\n",
              "    }\n",
              "\n",
              "    .colab-df-convert {\n",
              "      background-color: #E8F0FE;\n",
              "      border: none;\n",
              "      border-radius: 50%;\n",
              "      cursor: pointer;\n",
              "      display: none;\n",
              "      fill: #1967D2;\n",
              "      height: 32px;\n",
              "      padding: 0 0 0 0;\n",
              "      width: 32px;\n",
              "    }\n",
              "\n",
              "    .colab-df-convert:hover {\n",
              "      background-color: #E2EBFA;\n",
              "      box-shadow: 0px 1px 2px rgba(60, 64, 67, 0.3), 0px 1px 3px 1px rgba(60, 64, 67, 0.15);\n",
              "      fill: #174EA6;\n",
              "    }\n",
              "\n",
              "    [theme=dark] .colab-df-convert {\n",
              "      background-color: #3B4455;\n",
              "      fill: #D2E3FC;\n",
              "    }\n",
              "\n",
              "    [theme=dark] .colab-df-convert:hover {\n",
              "      background-color: #434B5C;\n",
              "      box-shadow: 0px 1px 3px 1px rgba(0, 0, 0, 0.15);\n",
              "      filter: drop-shadow(0px 1px 2px rgba(0, 0, 0, 0.3));\n",
              "      fill: #FFFFFF;\n",
              "    }\n",
              "  </style>\n",
              "\n",
              "      <script>\n",
              "        const buttonEl =\n",
              "          document.querySelector('#df-257302b0-a342-4d6a-bf4b-89758e715c78 button.colab-df-convert');\n",
              "        buttonEl.style.display =\n",
              "          google.colab.kernel.accessAllowed ? 'block' : 'none';\n",
              "\n",
              "        async function convertToInteractive(key) {\n",
              "          const element = document.querySelector('#df-257302b0-a342-4d6a-bf4b-89758e715c78');\n",
              "          const dataTable =\n",
              "            await google.colab.kernel.invokeFunction('convertToInteractive',\n",
              "                                                     [key], {});\n",
              "          if (!dataTable) return;\n",
              "\n",
              "          const docLinkHtml = 'Like what you see? Visit the ' +\n",
              "            '<a target=\"_blank\" href=https://colab.research.google.com/notebooks/data_table.ipynb>data table notebook</a>'\n",
              "            + ' to learn more about interactive tables.';\n",
              "          element.innerHTML = '';\n",
              "          dataTable['output_type'] = 'display_data';\n",
              "          await google.colab.output.renderOutput(dataTable, element);\n",
              "          const docLink = document.createElement('div');\n",
              "          docLink.innerHTML = docLinkHtml;\n",
              "          element.appendChild(docLink);\n",
              "        }\n",
              "      </script>\n",
              "    </div>\n",
              "  </div>\n",
              "  "
            ]
          },
          "metadata": {},
          "execution_count": 40
        }
      ]
    },
    {
      "cell_type": "code",
      "source": [
        "skewness = skewness[abs(skewness) > 0.75]\n",
        "print(\"There are {} skewed numerical features to Box Cox transform\".format(skewness.shape[0]))\n",
        "\n",
        "from scipy.special import boxcox1p\n",
        "skewed_features = skewness.index\n",
        "lam = 0.15\n",
        "for feat in skewed_features:\n",
        "  #all_data[feat] += 1\n",
        "  all_data[feat] = boxcox1p(all_data[feat], lam)"
      ],
      "metadata": {
        "colab": {
          "base_uri": "https://localhost:8080/"
        },
        "id": "TGxmG_-_ZfQi",
        "outputId": "025e6a07-7dbe-479e-cee2-fff7ee1b0c80"
      },
      "execution_count": null,
      "outputs": [
        {
          "output_type": "stream",
          "name": "stdout",
          "text": [
            "There are 59 skewed numerical features to Box Cox transform\n"
          ]
        }
      ]
    },
    {
      "cell_type": "code",
      "source": [
        "vNd = np.random.normal(50, 10, 1000)\n",
        "plt.hist(vNd, 100)\n",
        "plt.show()"
      ],
      "metadata": {
        "id": "UMou22ZN3118",
        "outputId": "9e3e04e0-5b48-4222-87a8-24a7c532d623",
        "colab": {
          "base_uri": "https://localhost:8080/",
          "height": 265
        }
      },
      "execution_count": null,
      "outputs": [
        {
          "output_type": "display_data",
          "data": {
            "text/plain": [
              "<Figure size 432x288 with 1 Axes>"
            ],
            "image/png": "[encoded data removed]"
          },
          "metadata": {
            "needs_background": "light"
          }
        }
      ]
    },
    {
      "cell_type": "code",
      "source": [
        "all_data = pd.get_dummies(all_data)\n",
        "\n",
        "train = all_data[:ntrain]\n",
        "test = all_data[ntrain:]\n"
      ],
      "metadata": {
        "id": "SbRZi2qBZkn-"
      },
      "execution_count": null,
      "outputs": []
    },
    {
      "cell_type": "code",
      "source": [
        "from sklearn.model_selection import KFold, cross_val_score, train_test_split\n",
        "import lightgbm as lgb\n",
        "from sklearn.metrics import mean_squared_error"
      ],
      "metadata": {
        "id": "0l0AINGtavie"
      },
      "execution_count": null,
      "outputs": []
    },
    {
      "cell_type": "code",
      "source": [
        "n_folds = 5\n",
        "\n",
        "def rmsle_cv(model):\n",
        "  kf = KFold(n_folds, shuffle=True, random_state=42).get_n_splits(train.values)\n",
        "  rmse= np.sqrt(-cross_val_score(model, train.values, y_train, scoring=\"neg_mean_squared_error\", cv = kf))\n",
        "  return(rmse)"
      ],
      "metadata": {
        "id": "1Tv-OHmJZ2l1"
      },
      "execution_count": null,
      "outputs": []
    },
    {
      "cell_type": "code",
      "source": [
        "model_lgb = lgb.LGBMRegressor(objective='regression',num_leaves=5,\n",
        "                              learning_rate=0.05, n_estimators=720,\n",
        "                              max_bin = 55, bagging_fraction = 0.8,\n",
        "                              bagging_freq = 5, feature_fraction = 0.2319,\n",
        "                              feature_fraction_seed=9, bagging_seed=9,\n",
        "                              min_data_in_leaf =6, min_sum_hessian_in_leaf = 11)\n",
        "score = rmsle_cv(model_lgb)\n",
        "print(\"LGBM score: {:.4f} ({:.4f})\" .format(score.mean(), score.std()))"
      ],
      "metadata": {
        "colab": {
          "base_uri": "https://localhost:8080/"
        },
        "id": "CVuEVSxHZn4y",
        "outputId": "f87cf4b8-0125-4dd4-cce4-bc607509fd1c"
      },
      "execution_count": null,
      "outputs": [
        {
          "output_type": "stream",
          "name": "stdout",
          "text": [
            "LGBM score: 0.1209 (0.0064)\n"
          ]
        }
      ]
    },
    {
      "cell_type": "code",
      "source": [
        "from sklearn.model_selection import GridSearchCV\n",
        "param = {\n",
        "    'max_depth':[2,3,4],\n",
        "    'n_estimators':range(550,700,50),\n",
        "    'colsample_bytree':[0.5,0.7,1],\n",
        "    'colsample_bylevel':[0.5,0.7,1],\n",
        "}\n",
        "\n",
        "model_lgb2 = lgb.LGBMRegressor(objective='regression')\n",
        "grid_search = GridSearchCV(estimator=model_lgb2, param_grid=param, cv=3, refit = True)\n",
        "\n",
        "grid_search.fit(train, y_train)\n",
        "#grid_search.cv_results_[\"params\"]\n",
        "grid_search.cv_results_[\"mean_test_score\"]\n",
        "\n",
        "print(grid_search.best_params_)\n",
        "print(grid_search.best_estimator_)"
      ],
      "metadata": {
        "id": "Yz8M3x7LtCir"
      },
      "execution_count": null,
      "outputs": []
    },
    {
      "cell_type": "code",
      "source": [
        "model_lgb2 = lgb.LGBMRegressor(objective='regression', colsample_bylevel = 0.5, colsample_bytree = 0.7, max_depth = 2, n_estimators = 550)\n",
        "model_lgb2.fit(train, y_train)\n",
        "lgb_train_pred2 = model_lgb2.predict(train)\n",
        "lgb_pred2 = model_lgb2.predict(test)\n"
      ],
      "metadata": {
        "id": "QZem4ddytwEr"
      },
      "execution_count": null,
      "outputs": []
    },
    {
      "cell_type": "code",
      "source": [
        "from sklearn.metrics import mean_squared_error, mean_absolute_error\n",
        "import math\n",
        "print('train mae score: ', mean_absolute_error(y_train, lgb_train_pred2))\n",
        "print('train rmse score: ', math.sqrt(mean_squared_error(y_train, lgb_train_pred2)))\n",
        "print('val mae score:', mean_absolute_error(y_test, lgb_pred2))\n",
        "print('val rmse score: ', math.sqrt(mean_squared_error(y_test, lgb_pred2)))"
      ],
      "metadata": {
        "id": "pEF37zkdua84"
      },
      "execution_count": null,
      "outputs": []
    },
    {
      "cell_type": "code",
      "source": [
        "def rmsle(y, y_pred):\n",
        "  return np.sqrt(mean_squared_error(y, y_pred))"
      ],
      "metadata": {
        "id": "x1dJHwMSbFwh"
      },
      "execution_count": null,
      "outputs": []
    },
    {
      "cell_type": "code",
      "source": [
        "#y_train = np.expm1(y_train)\n",
        "#print(y_train)"
      ],
      "metadata": {
        "id": "m_YiMRemGx-L"
      },
      "execution_count": null,
      "outputs": []
    },
    {
      "cell_type": "code",
      "source": [
        "#y_train = np.expm1(y_train)\n",
        "\n",
        "\n",
        "model_lgb.fit(train, y_train)\n",
        "lgb_train_pred = model_lgb.predict(train)\n",
        "#lgb_train_pred = np.expm1(model_lgb.predict(train))\n",
        "#lgb_pred = np.expm1(model_lgb.predict(test.values))\n",
        "#y의 값에 로그변환이 되어있기 때문에 expm1 해주면 원래 값으로 변환 가능\n",
        "#실제 test값을 넣을 때는 expm1을 취해야함\n",
        "lgb_pred = model_lgb.predict(test)\n",
        "print(rmsle(y_train, lgb_train_pred))"
      ],
      "metadata": {
        "id": "IwPJE3TQbCJu"
      },
      "execution_count": null,
      "outputs": []
    },
    {
      "cell_type": "code",
      "source": [
        "print(lgb_pred)"
      ],
      "metadata": {
        "id": "w-HmIWIDl3cE"
      },
      "execution_count": null,
      "outputs": []
    },
    {
      "cell_type": "code",
      "source": [
        "print(y_test)"
      ],
      "metadata": {
        "id": "0t8gFXmG5CCj"
      },
      "execution_count": null,
      "outputs": []
    },
    {
      "cell_type": "code",
      "source": [
        "print(ntrain)"
      ],
      "metadata": {
        "id": "Zag-ETMhrQzg"
      },
      "execution_count": null,
      "outputs": []
    },
    {
      "cell_type": "code",
      "source": [
        "#y_test\n",
        "print(rmsle(y_test, lgb_pred))"
      ],
      "metadata": {
        "id": "tpvAEiHemLTM"
      },
      "execution_count": null,
      "outputs": []
    },
    {
      "cell_type": "code",
      "source": [
        "from sklearn.metrics import mean_squared_error, mean_absolute_error\n",
        "import math\n",
        "print('train mae score: ', mean_absolute_error(y_train, lgb_train_pred))\n",
        "print('train rmse score: ', math.sqrt(mean_squared_error(y_train, lgb_train_pred)))\n",
        "#print('val mae score:', mean_absolute_error(y_val, pred_val))"
      ],
      "metadata": {
        "id": "gqvzQhfDtvzd"
      },
      "execution_count": null,
      "outputs": []
    },
    {
      "cell_type": "code",
      "source": [
        "print('val mae score:', mean_absolute_error(y_test, lgb_pred))\n",
        "print('val rmse score: ', math.sqrt(mean_squared_error(y_test, lgb_pred)))"
      ],
      "metadata": {
        "id": "_Whdmjr-t5BZ"
      },
      "execution_count": null,
      "outputs": []
    },
    {
      "cell_type": "code",
      "source": [
        "from sklearn.model_selection import GridSearchCV\n",
        "import xgboost as xgb\n",
        "\n",
        "param = {\n",
        "    'max_depth':[2,3,4],\n",
        "    'n_estimators':range(550,700,50),\n",
        "    'colsample_bytree':[0.5,0.7,1],\n",
        "    'colsample_bylevel':[0.5,0.7,1],\n",
        "}\n",
        "model = xgb.XGBRegressor(objective='reg:squarederror')\n",
        "grid_search = GridSearchCV(estimator=model, param_grid=param, cv=3, refit = True)\n",
        "\n",
        "grid_search.fit(train, y_train)\n",
        "#grid_search.cv_results_[\"params\"]\n",
        "grid_search.cv_results_[\"mean_test_score\"]\n",
        "\n",
        "print(grid_search.best_params_)\n",
        "print(grid_search.best_estimator_)"
      ],
      "metadata": {
        "id": "U6aJ8rQEovQD"
      },
      "execution_count": null,
      "outputs": []
    },
    {
      "cell_type": "code",
      "source": [
        "model = xgb.XGBRegressor(colsample_bylevel=0.5, colsample_bytree=0.5, max_depth=2, n_estimators=650,\n",
        "             objective='reg:squarederror')\n",
        "model.fit(train, y_train)\n",
        "predictions = model.predict(test)\n",
        "predictions"
      ],
      "metadata": {
        "id": "WaUfSVeMpgVJ"
      },
      "execution_count": null,
      "outputs": []
    },
    {
      "cell_type": "code",
      "source": [
        "from sklearn.metrics import mean_squared_error, mean_absolute_error\n",
        "import math\n",
        "pred_train = grid_search.predict(train)\n",
        "pred_test = grid_search.predict(test)\n",
        "\n",
        "#print('train acc score: ',accuracy = accuracy_score(y_train, pred_train))\n",
        "#print('val acc score: ',accuracy = accuracy_score(y_val, pred_val))\n",
        "\n",
        "print('train mae score: ', mean_absolute_error(y_train, pred_train))\n",
        "print('val mae score:', mean_absolute_error(y_test,pred_test))\n",
        "\n",
        "print('train rmse score: ', math.sqrt(mean_squared_error(y_train, pred_train)))\n",
        "print('val rmse score: ', math.sqrt(mean_squared_error(y_test, pred_test)))"
      ],
      "metadata": {
        "id": "wA4hlVd-pqkv"
      },
      "execution_count": null,
      "outputs": []
    },
    {
      "cell_type": "code",
      "source": [
        "import matplotlib.pyplot as plt\n",
        "plt.figure(figsize=(17,7))\n",
        "plt.plot(y_test, color='red')\n",
        "plt.plot(lgb_pred2, color='blue')\n",
        "plt.title('Prediction of House Prices')\n",
        "plt.ylabel('Prices')\n",
        "plt.legend()"
      ],
      "metadata": {
        "colab": {
          "base_uri": "https://localhost:8080/",
          "height": 480
        },
        "id": "19EBf8A9vun-",
        "outputId": "c5ba3885-34f8-49e5-fa59-c1dbf0fd55bd"
      },
      "execution_count": null,
      "outputs": [
        {
          "output_type": "stream",
          "name": "stderr",
          "text": [
            "WARNING:matplotlib.legend:No handles with labels found to put in legend.\n"
          ]
        },
        {
          "output_type": "execute_result",
          "data": {
            "text/plain": [
              "<matplotlib.legend.Legend at 0x7fa8f650c0d0>"
            ]
          },
          "metadata": {},
          "execution_count": 20
        },
        {
          "output_type": "display_data",
          "data": {
            "text/plain": [
              "<Figure size 1224x504 with 1 Axes>"
            ],
            "image/png": "[encoded data removed]"
          },
          "metadata": {
            "needs_background": "light"
          }
        }
      ]
    },
    {
      "cell_type": "code",
      "source": [
        "from sklearn.linear_model import Ridge, Lasso, ElasticNet\n",
        "from sklearn.ensemble import RandomForestRegressor\n",
        "from sklearn.model_selection import GridSearchCV\n",
        "\n",
        "# print best rmse and return best_estimator\n",
        "def get_best_estimator(model, params):\n",
        "    grid_model = GridSearchCV(model, param_grid=params, scoring=\"neg_mean_squared_error\", cv=5)\n",
        "    grid_model.fit(train, y_train)\n",
        "    rmse = np.sqrt(-1*grid_model.best_score_)\n",
        "    print('{0}, param:{1}, rmse:{2}'.format(model.__class__.__name__, grid_model.best_params_,\\\n",
        "                                            np.round(rmse, 4)))\n",
        "    return grid_model.best_estimator_\n",
        "\n",
        "ridge_params = {'alpha':[0.05, 0.1, 1, 5, 8, 10, 15]}\n",
        "lasso_params = {'alpha':[0.001, 0.005, 0.008, 0.05, 0.1, 0.3, 0.5, 1, 5, 10]}\n",
        "elastic_params = {'alpha':[0.05, 0.1, 0.5, 1, 3, 5, 8]}\n",
        "\n",
        "ridge_reg = Ridge()\n",
        "lasso_reg = Lasso() \n",
        "elastic_reg = ElasticNet(l1_ratio=0.7)\n",
        "\n",
        "lasso_be = get_best_estimator(lasso_reg, lasso_params)\n",
        "ridge_be = get_best_estimator(ridge_reg, ridge_params)\n",
        "elastic_be = get_best_estimator(elastic_reg, elastic_params)"
      ],
      "metadata": {
        "id": "yWRTGKVlvaEu"
      },
      "execution_count": null,
      "outputs": []
    },
    {
      "cell_type": "code",
      "source": [
        "# Fit Random Forest on Training Set\n",
        "from sklearn.ensemble import RandomForestRegressor\n",
        "from sklearn.metrics import mean_squared_error, mean_absolute_error\n",
        "import math\n",
        "regressor = RandomForestRegressor(n_estimators=300, random_state=0)\n",
        "regressor.fit(train, y_train)\n",
        "\n",
        "# Score model\n",
        "regressor.score(train, y_train)\n"
      ],
      "metadata": {
        "id": "vdWkvHzo0WaU"
      },
      "execution_count": null,
      "outputs": []
    }
  ]
}